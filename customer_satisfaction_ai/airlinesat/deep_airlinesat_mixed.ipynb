{
  "cells": [
    {
      "cell_type": "code",
      "source": [
        " !curl ipinfo.io"
      ],
      "metadata": {
        "id": "9GjU34HQ-JOe",
        "colab": {
          "base_uri": "https://localhost:8080/"
        },
        "outputId": "2c5fa213-1ac8-4ed3-fb7a-85306698a570"
      },
      "execution_count": 1,
      "outputs": [
        {
          "output_type": "stream",
          "name": "stdout",
          "text": [
            "{\n",
            "  \"ip\": \"34.86.116.131\",\n",
            "  \"hostname\": \"131.116.86.34.bc.googleusercontent.com\",\n",
            "  \"city\": \"Washington\",\n",
            "  \"region\": \"Washington, D.C.\",\n",
            "  \"country\": \"US\",\n",
            "  \"loc\": \"38.8951,-77.0364\",\n",
            "  \"org\": \"AS396982 Google LLC\",\n",
            "  \"postal\": \"20004\",\n",
            "  \"timezone\": \"America/New_York\",\n",
            "  \"readme\": \"https://ipinfo.io/missingauth\"\n",
            "}"
          ]
        }
      ]
    },
    {
      "cell_type": "code",
      "execution_count": 2,
      "metadata": {
        "id": "9vm0f2SLUpZk"
      },
      "outputs": [],
      "source": [
        "from tensorflow.keras.models import Sequential, load_model\n",
        "from tensorflow.keras.regularizers import l1,l2,l1_l2\n",
        "from tensorflow.keras.layers import Dense\n",
        "import pandas as pd\n",
        "from sklearn.model_selection import train_test_split\n",
        "from sklearn.preprocessing import LabelEncoder, Normalizer\n",
        "import numpy as np\n",
        "from sklearn.metrics import accuracy_score\n",
        "from matplotlib import pyplot\n",
        "import datetime as dt\n",
        "from sklearn.preprocessing import StandardScaler\n",
        "scaler = StandardScaler()\n",
        "\n",
        "th=dt.datetime.now()\n"
      ]
    },
    {
      "cell_type": "code",
      "execution_count": 3,
      "metadata": {
        "id": "rqauUZStVIpa"
      },
      "outputs": [],
      "source": [
        "#! pip install category_encoders"
      ]
    },
    {
      "cell_type": "code",
      "execution_count": 4,
      "metadata": {
        "id": "Rvs24-jqVTrr"
      },
      "outputs": [],
      "source": [
        "#from category_encoders import OrdinalEncoder"
      ]
    },
    {
      "cell_type": "code",
      "execution_count": 5,
      "metadata": {
        "colab": {
          "base_uri": "https://localhost:8080/"
        },
        "id": "pBzP2On8_tsd",
        "outputId": "1e1e2b0b-7a64-43c8-c05f-dfeb6da33e74"
      },
      "outputs": [
        {
          "output_type": "stream",
          "name": "stdout",
          "text": [
            "Requirement already satisfied: plot_keras_history in /usr/local/lib/python3.10/dist-packages (1.1.38)\n",
            "Requirement already satisfied: matplotlib in /usr/local/lib/python3.10/dist-packages (from plot_keras_history) (3.7.1)\n",
            "Requirement already satisfied: pandas in /usr/local/lib/python3.10/dist-packages (from plot_keras_history) (1.5.3)\n",
            "Requirement already satisfied: scipy in /usr/local/lib/python3.10/dist-packages (from plot_keras_history) (1.11.4)\n",
            "Requirement already satisfied: support-developer>=1.0.2 in /usr/local/lib/python3.10/dist-packages (from plot_keras_history) (1.0.5)\n",
            "Requirement already satisfied: sanitize-ml-labels>=1.0.48 in /usr/local/lib/python3.10/dist-packages (from plot_keras_history) (1.0.51)\n",
            "Requirement already satisfied: compress-json in /usr/local/lib/python3.10/dist-packages (from sanitize-ml-labels>=1.0.48->plot_keras_history) (1.0.10)\n",
            "Requirement already satisfied: contourpy>=1.0.1 in /usr/local/lib/python3.10/dist-packages (from matplotlib->plot_keras_history) (1.2.0)\n",
            "Requirement already satisfied: cycler>=0.10 in /usr/local/lib/python3.10/dist-packages (from matplotlib->plot_keras_history) (0.12.1)\n",
            "Requirement already satisfied: fonttools>=4.22.0 in /usr/local/lib/python3.10/dist-packages (from matplotlib->plot_keras_history) (4.48.1)\n",
            "Requirement already satisfied: kiwisolver>=1.0.1 in /usr/local/lib/python3.10/dist-packages (from matplotlib->plot_keras_history) (1.4.5)\n",
            "Requirement already satisfied: numpy>=1.20 in /usr/local/lib/python3.10/dist-packages (from matplotlib->plot_keras_history) (1.23.5)\n",
            "Requirement already satisfied: packaging>=20.0 in /usr/local/lib/python3.10/dist-packages (from matplotlib->plot_keras_history) (23.2)\n",
            "Requirement already satisfied: pillow>=6.2.0 in /usr/local/lib/python3.10/dist-packages (from matplotlib->plot_keras_history) (9.4.0)\n",
            "Requirement already satisfied: pyparsing>=2.3.1 in /usr/local/lib/python3.10/dist-packages (from matplotlib->plot_keras_history) (3.1.1)\n",
            "Requirement already satisfied: python-dateutil>=2.7 in /usr/local/lib/python3.10/dist-packages (from matplotlib->plot_keras_history) (2.8.2)\n",
            "Requirement already satisfied: pytz>=2020.1 in /usr/local/lib/python3.10/dist-packages (from pandas->plot_keras_history) (2023.4)\n",
            "Requirement already satisfied: six>=1.5 in /usr/local/lib/python3.10/dist-packages (from python-dateutil>=2.7->matplotlib->plot_keras_history) (1.16.0)\n"
          ]
        }
      ],
      "source": [
        "! pip install plot_keras_history"
      ]
    },
    {
      "cell_type": "code",
      "source": [
        "! pip install pyyaml h5py"
      ],
      "metadata": {
        "colab": {
          "base_uri": "https://localhost:8080/"
        },
        "id": "Rpovx3cDNI9M",
        "outputId": "3aa6711a-7280-4b5c-ad53-7aab64301b3a"
      },
      "execution_count": 6,
      "outputs": [
        {
          "output_type": "stream",
          "name": "stdout",
          "text": [
            "Requirement already satisfied: pyyaml in /usr/local/lib/python3.10/dist-packages (6.0.1)\n",
            "Requirement already satisfied: h5py in /usr/local/lib/python3.10/dist-packages (3.9.0)\n",
            "Requirement already satisfied: numpy>=1.17.3 in /usr/local/lib/python3.10/dist-packages (from h5py) (1.23.5)\n"
          ]
        }
      ]
    },
    {
      "cell_type": "code",
      "execution_count": 7,
      "metadata": {
        "id": "n20ZqhmFCSZB"
      },
      "outputs": [],
      "source": [
        "from tensorflow.keras.callbacks import ModelCheckpoint, EarlyStopping"
      ]
    },
    {
      "cell_type": "code",
      "execution_count": 8,
      "metadata": {
        "id": "6TNgQXAj_xqb"
      },
      "outputs": [],
      "source": [
        "from plot_keras_history import show_history, plot_history, chain_histories\n",
        "import matplotlib.pyplot as plt\n"
      ]
    },
    {
      "cell_type": "markdown",
      "metadata": {
        "id": "BhBq2uX2UpaC"
      },
      "source": [
        "=======================<br>\n",
        "load the dataset"
      ]
    },
    {
      "cell_type": "code",
      "execution_count": null,
      "metadata": {
        "id": "7oKUBpodOHdJ"
      },
      "outputs": [],
      "source": [
        "from google.colab import files\n",
        "from google.colab import drive\n",
        "#drive.mount('/content/drive/')\n",
        "#%cd /content/drive/My Drive/Colab_2024/\n",
        "#%ls\n"
      ]
    },
    {
      "cell_type": "code",
      "source": [
        "uploaded=files.upload()"
      ],
      "metadata": {
        "colab": {
          "base_uri": "https://localhost:8080/",
          "height": 73
        },
        "id": "3W5AcG6OG61L",
        "outputId": "4bdb0268-7d86-42bb-ff55-278d9290ddcd"
      },
      "execution_count": 18,
      "outputs": [
        {
          "output_type": "display_data",
          "data": {
            "text/plain": [
              "<IPython.core.display.HTML object>"
            ],
            "text/html": [
              "\n",
              "     <input type=\"file\" id=\"files-ad9cab7b-ac35-4fd7-a5c2-c8fc3a545c47\" name=\"files[]\" multiple disabled\n",
              "        style=\"border:none\" />\n",
              "     <output id=\"result-ad9cab7b-ac35-4fd7-a5c2-c8fc3a545c47\">\n",
              "      Upload widget is only available when the cell has been executed in the\n",
              "      current browser session. Please rerun this cell to enable.\n",
              "      </output>\n",
              "      <script>// Copyright 2017 Google LLC\n",
              "//\n",
              "// Licensed under the Apache License, Version 2.0 (the \"License\");\n",
              "// you may not use this file except in compliance with the License.\n",
              "// You may obtain a copy of the License at\n",
              "//\n",
              "//      http://www.apache.org/licenses/LICENSE-2.0\n",
              "//\n",
              "// Unless required by applicable law or agreed to in writing, software\n",
              "// distributed under the License is distributed on an \"AS IS\" BASIS,\n",
              "// WITHOUT WARRANTIES OR CONDITIONS OF ANY KIND, either express or implied.\n",
              "// See the License for the specific language governing permissions and\n",
              "// limitations under the License.\n",
              "\n",
              "/**\n",
              " * @fileoverview Helpers for google.colab Python module.\n",
              " */\n",
              "(function(scope) {\n",
              "function span(text, styleAttributes = {}) {\n",
              "  const element = document.createElement('span');\n",
              "  element.textContent = text;\n",
              "  for (const key of Object.keys(styleAttributes)) {\n",
              "    element.style[key] = styleAttributes[key];\n",
              "  }\n",
              "  return element;\n",
              "}\n",
              "\n",
              "// Max number of bytes which will be uploaded at a time.\n",
              "const MAX_PAYLOAD_SIZE = 100 * 1024;\n",
              "\n",
              "function _uploadFiles(inputId, outputId) {\n",
              "  const steps = uploadFilesStep(inputId, outputId);\n",
              "  const outputElement = document.getElementById(outputId);\n",
              "  // Cache steps on the outputElement to make it available for the next call\n",
              "  // to uploadFilesContinue from Python.\n",
              "  outputElement.steps = steps;\n",
              "\n",
              "  return _uploadFilesContinue(outputId);\n",
              "}\n",
              "\n",
              "// This is roughly an async generator (not supported in the browser yet),\n",
              "// where there are multiple asynchronous steps and the Python side is going\n",
              "// to poll for completion of each step.\n",
              "// This uses a Promise to block the python side on completion of each step,\n",
              "// then passes the result of the previous step as the input to the next step.\n",
              "function _uploadFilesContinue(outputId) {\n",
              "  const outputElement = document.getElementById(outputId);\n",
              "  const steps = outputElement.steps;\n",
              "\n",
              "  const next = steps.next(outputElement.lastPromiseValue);\n",
              "  return Promise.resolve(next.value.promise).then((value) => {\n",
              "    // Cache the last promise value to make it available to the next\n",
              "    // step of the generator.\n",
              "    outputElement.lastPromiseValue = value;\n",
              "    return next.value.response;\n",
              "  });\n",
              "}\n",
              "\n",
              "/**\n",
              " * Generator function which is called between each async step of the upload\n",
              " * process.\n",
              " * @param {string} inputId Element ID of the input file picker element.\n",
              " * @param {string} outputId Element ID of the output display.\n",
              " * @return {!Iterable<!Object>} Iterable of next steps.\n",
              " */\n",
              "function* uploadFilesStep(inputId, outputId) {\n",
              "  const inputElement = document.getElementById(inputId);\n",
              "  inputElement.disabled = false;\n",
              "\n",
              "  const outputElement = document.getElementById(outputId);\n",
              "  outputElement.innerHTML = '';\n",
              "\n",
              "  const pickedPromise = new Promise((resolve) => {\n",
              "    inputElement.addEventListener('change', (e) => {\n",
              "      resolve(e.target.files);\n",
              "    });\n",
              "  });\n",
              "\n",
              "  const cancel = document.createElement('button');\n",
              "  inputElement.parentElement.appendChild(cancel);\n",
              "  cancel.textContent = 'Cancel upload';\n",
              "  const cancelPromise = new Promise((resolve) => {\n",
              "    cancel.onclick = () => {\n",
              "      resolve(null);\n",
              "    };\n",
              "  });\n",
              "\n",
              "  // Wait for the user to pick the files.\n",
              "  const files = yield {\n",
              "    promise: Promise.race([pickedPromise, cancelPromise]),\n",
              "    response: {\n",
              "      action: 'starting',\n",
              "    }\n",
              "  };\n",
              "\n",
              "  cancel.remove();\n",
              "\n",
              "  // Disable the input element since further picks are not allowed.\n",
              "  inputElement.disabled = true;\n",
              "\n",
              "  if (!files) {\n",
              "    return {\n",
              "      response: {\n",
              "        action: 'complete',\n",
              "      }\n",
              "    };\n",
              "  }\n",
              "\n",
              "  for (const file of files) {\n",
              "    const li = document.createElement('li');\n",
              "    li.append(span(file.name, {fontWeight: 'bold'}));\n",
              "    li.append(span(\n",
              "        `(${file.type || 'n/a'}) - ${file.size} bytes, ` +\n",
              "        `last modified: ${\n",
              "            file.lastModifiedDate ? file.lastModifiedDate.toLocaleDateString() :\n",
              "                                    'n/a'} - `));\n",
              "    const percent = span('0% done');\n",
              "    li.appendChild(percent);\n",
              "\n",
              "    outputElement.appendChild(li);\n",
              "\n",
              "    const fileDataPromise = new Promise((resolve) => {\n",
              "      const reader = new FileReader();\n",
              "      reader.onload = (e) => {\n",
              "        resolve(e.target.result);\n",
              "      };\n",
              "      reader.readAsArrayBuffer(file);\n",
              "    });\n",
              "    // Wait for the data to be ready.\n",
              "    let fileData = yield {\n",
              "      promise: fileDataPromise,\n",
              "      response: {\n",
              "        action: 'continue',\n",
              "      }\n",
              "    };\n",
              "\n",
              "    // Use a chunked sending to avoid message size limits. See b/62115660.\n",
              "    let position = 0;\n",
              "    do {\n",
              "      const length = Math.min(fileData.byteLength - position, MAX_PAYLOAD_SIZE);\n",
              "      const chunk = new Uint8Array(fileData, position, length);\n",
              "      position += length;\n",
              "\n",
              "      const base64 = btoa(String.fromCharCode.apply(null, chunk));\n",
              "      yield {\n",
              "        response: {\n",
              "          action: 'append',\n",
              "          file: file.name,\n",
              "          data: base64,\n",
              "        },\n",
              "      };\n",
              "\n",
              "      let percentDone = fileData.byteLength === 0 ?\n",
              "          100 :\n",
              "          Math.round((position / fileData.byteLength) * 100);\n",
              "      percent.textContent = `${percentDone}% done`;\n",
              "\n",
              "    } while (position < fileData.byteLength);\n",
              "  }\n",
              "\n",
              "  // All done.\n",
              "  yield {\n",
              "    response: {\n",
              "      action: 'complete',\n",
              "    }\n",
              "  };\n",
              "}\n",
              "\n",
              "scope.google = scope.google || {};\n",
              "scope.google.colab = scope.google.colab || {};\n",
              "scope.google.colab._files = {\n",
              "  _uploadFiles,\n",
              "  _uploadFilesContinue,\n",
              "};\n",
              "})(self);\n",
              "</script> "
            ]
          },
          "metadata": {}
        },
        {
          "output_type": "stream",
          "name": "stdout",
          "text": [
            "Saving Airlinessat.csv to Airlinessat.csv\n"
          ]
        }
      ]
    },
    {
      "cell_type": "code",
      "source": [
        "def load_dataset(filename):\n",
        " # load the dataset as a pandas DataFrame\n",
        " df = pd.read_csv(filename,index_col=0)\n",
        " df = df.drop(df.iloc[:,[0]],axis=1)\n",
        "\n",
        " # for only one column\n",
        " clm=list(df.columns[df.isna().sum()>0])\n",
        " value=df[clm].median()\n",
        " df.replace(np.nan,value,inplace=True)\n",
        "\n",
        " cat_cols=[col for col in df.columns if df[col].dtype==\"object\"]\n",
        " ord_cols= [col for col in df.columns if min(df[col]) in {0,1} and max(df[col])==5]\n",
        " cont_cols= [col for col in df.columns if col not in ord_cols + cat_cols]\n",
        " columns=df.columns\n",
        " # retrieve numpy array\n",
        " dfset = df.values\n",
        " # split into input (X) and output (y) variables\n",
        " X = dfset[:, :-1]\n",
        " y = dfset[:,-1]\n",
        " # format all fields as string\n",
        " #X = X.astype(str)\n",
        " return X, y,columns,cat_cols[:-1],ord_cols,cont_cols\n"
      ],
      "metadata": {
        "id": "D6UhnNoCsd_q"
      },
      "execution_count": 12,
      "outputs": []
    },
    {
      "cell_type": "markdown",
      "source": [
        "Transform data using embeedings"
      ],
      "metadata": {
        "id": "7kVkfY7ZsyJX"
      }
    },
    {
      "cell_type": "code",
      "source": [
        "def transf_dataset(X,cols,cat_cols,ord_cols,cont_cols):\n",
        "    \"\"\" transformation using embedding to numerical datasets\"\"\"\n",
        "    df_comb_cols=[]\n",
        "    X=pd.DataFrame(X,columns=cols[:-1])\n",
        "    # categorical\n",
        "    df_cat=X[cat_cols]\n",
        "    df_cat_enc = pd.get_dummies(df_cat,columns=cat_cols,dtype='int')\n",
        "    df_comb_cols.extend(df_cat_enc.columns)\n",
        "    # ordinal\n",
        "    df_ord=X[ord_cols]\n",
        "    ord_mapping = lambda x:x\n",
        "    df_ord_map = df_ord.applymap(ord_mapping)\n",
        "    df_ord_enc =pd.get_dummies(df_ord_map,columns=ord_cols, dtype='int')\n",
        "    df_comb_cols.extend(df_ord_enc.columns)\n",
        "    # continuous\n",
        "    df_cont=X[cont_cols]\n",
        "    df_cont_scaled = scaler.fit_transform(df_cont)\n",
        "    df_comb_cols.extend(df_cont.columns)\n",
        "    # combined\n",
        "    df_comb = np.hstack((df_cat_enc,df_ord_enc,df_cont_scaled))\n",
        "    return df_comb, df_comb_cols\n"
      ],
      "metadata": {
        "id": "sEuZk4V0smE8"
      },
      "execution_count": 13,
      "outputs": []
    },
    {
      "cell_type": "markdown",
      "metadata": {
        "id": "RXv7q8wJUpaP"
      },
      "source": [
        "prepare input data"
      ]
    },
    {
      "cell_type": "code",
      "execution_count": 14,
      "metadata": {
        "id": "x4wXc4OAUpaQ"
      },
      "outputs": [],
      "source": [
        "def prepare_inputs(X_train, X_test):\n",
        " no = Normalizer()\n",
        " X_train_enc =no.transform(X_train)\n",
        " X_test_enc= no.transform(X_test)\n",
        " return X_train_enc, X_test_enc"
      ]
    },
    {
      "cell_type": "code",
      "source": [],
      "metadata": {
        "id": "JC72W5Ehs8wc"
      },
      "execution_count": 14,
      "outputs": []
    },
    {
      "cell_type": "markdown",
      "metadata": {
        "id": "E87p6ZPIUpaT"
      },
      "source": [
        "prepare target"
      ]
    },
    {
      "cell_type": "markdown",
      "source": [],
      "metadata": {
        "id": "uXrQCxGqt1lP"
      }
    },
    {
      "cell_type": "code",
      "execution_count": 15,
      "metadata": {
        "id": "JfbktCVrUpaV"
      },
      "outputs": [],
      "source": [
        "def prepare_targets(y_train, y_test):\n",
        " le = LabelEncoder()\n",
        " le.fit(y_train)\n",
        " y_train_enc = le.transform(y_train)\n",
        " y_test_enc = le.transform(y_test)\n",
        " return y_train_enc, y_test_enc"
      ]
    },
    {
      "cell_type": "markdown",
      "metadata": {
        "id": "6MR2WDPvUpac"
      },
      "source": [
        "load the dataset"
      ]
    },
    {
      "cell_type": "code",
      "execution_count": 19,
      "metadata": {
        "id": "GKxufulWUpbL",
        "colab": {
          "base_uri": "https://localhost:8080/"
        },
        "outputId": "b128a8af-7e7f-440d-d4fe-e4fca4b9650d"
      },
      "outputs": [
        {
          "output_type": "stream",
          "name": "stdout",
          "text": [
            "['Gender', 'Customer Type', 'Age', 'Type of Travel', 'Class', 'Flight Distance', 'Inflight wifi service', 'Departure/Arrival time convenient', 'Ease of Online booking', 'Gate location', 'Food and drink', 'Online boarding', 'Seat comfort', 'Inflight entertainment', 'On-board service', 'Leg room service', 'Baggage handling', 'Checkin service', 'Inflight service', 'Cleanliness', 'Departure Delay in Minutes', 'Arrival Delay in Minutes', 'satisfaction']\n"
          ]
        }
      ],
      "source": [
        "X, y,feature_names_in,nominal_cols,ordinal_cols, numerical_cols = load_dataset('Airlinessat.csv')\n",
        "print(list(feature_names_in))"
      ]
    },
    {
      "cell_type": "code",
      "source": [
        "\n",
        "X,Xcols=transf_dataset(X,feature_names_in,nominal_cols,ordinal_cols, numerical_cols)\n"
      ],
      "metadata": {
        "id": "1xUAipW5uJAX"
      },
      "execution_count": 20,
      "outputs": []
    },
    {
      "cell_type": "code",
      "source": [
        "print (pd.DataFrame(X, columns=Xcols).head(5))"
      ],
      "metadata": {
        "id": "sv1pp0k5uW1x",
        "colab": {
          "base_uri": "https://localhost:8080/"
        },
        "outputId": "1d7dd1eb-e9a3-4db2-d38c-4c21cc7542e5"
      },
      "execution_count": 21,
      "outputs": [
        {
          "output_type": "stream",
          "name": "stdout",
          "text": [
            "   Gender_Female  Gender_Male  Customer Type_Loyal Customer  \\\n",
            "0            0.0          1.0                           1.0   \n",
            "1            0.0          1.0                           0.0   \n",
            "2            1.0          0.0                           1.0   \n",
            "3            1.0          0.0                           1.0   \n",
            "4            0.0          1.0                           1.0   \n",
            "\n",
            "   Customer Type_disloyal Customer  Type of Travel_Business travel  \\\n",
            "0                              0.0                             0.0   \n",
            "1                              1.0                             1.0   \n",
            "2                              0.0                             1.0   \n",
            "3                              0.0                             1.0   \n",
            "4                              0.0                             1.0   \n",
            "\n",
            "   Type of Travel_Personal Travel  Class_Business  Class_Eco  Class_Eco Plus  \\\n",
            "0                             1.0             0.0        0.0             1.0   \n",
            "1                             0.0             1.0        0.0             0.0   \n",
            "2                             0.0             1.0        0.0             0.0   \n",
            "3                             0.0             1.0        0.0             0.0   \n",
            "4                             0.0             1.0        0.0             0.0   \n",
            "\n",
            "   Inflight wifi service_0  ...  Cleanliness_0  Cleanliness_1  Cleanliness_2  \\\n",
            "0                      0.0  ...            0.0            0.0            0.0   \n",
            "1                      0.0  ...            0.0            1.0            0.0   \n",
            "2                      0.0  ...            0.0            0.0            0.0   \n",
            "3                      0.0  ...            0.0            0.0            1.0   \n",
            "4                      0.0  ...            0.0            0.0            0.0   \n",
            "\n",
            "   Cleanliness_3  Cleanliness_4  Cleanliness_5       Age  Flight Distance  \\\n",
            "0            0.0            0.0            1.0 -1.747961        -0.732184   \n",
            "1            0.0            0.0            0.0 -0.954274        -0.957760   \n",
            "2            0.0            0.0            1.0 -0.888133        -0.048440   \n",
            "3            0.0            0.0            0.0 -0.954274        -0.629924   \n",
            "4            1.0            0.0            0.0  1.426788        -0.978814   \n",
            "\n",
            "   Departure Delay in Minutes  Arrival Delay in Minutes  \n",
            "0                    0.270187                  0.076909  \n",
            "1                   -0.360214                 -0.235460  \n",
            "2                   -0.386481                 -0.391644  \n",
            "3                   -0.097547                 -0.157368  \n",
            "4                   -0.386481                 -0.391644  \n",
            "\n",
            "[5 rows x 96 columns]\n"
          ]
        }
      ]
    },
    {
      "cell_type": "markdown",
      "metadata": {
        "id": "4U7lzJxUUpbN"
      },
      "source": [
        "split into train and test sets"
      ]
    },
    {
      "cell_type": "code",
      "execution_count": 22,
      "metadata": {
        "id": "o-WJSzQFUpbO"
      },
      "outputs": [],
      "source": [
        "X_train, X_test, y_train, y_test = train_test_split(X, y, test_size=0.10, random_state=1,shuffle=True)"
      ]
    },
    {
      "cell_type": "markdown",
      "metadata": {
        "id": "mkgil7K1UpbP"
      },
      "source": [
        "prepare input data"
      ]
    },
    {
      "cell_type": "code",
      "execution_count": 23,
      "metadata": {
        "id": "Ayo5iT47UpbQ"
      },
      "outputs": [],
      "source": [
        "X_train_enc, X_test_enc = prepare_inputs(X_train, X_test)"
      ]
    },
    {
      "cell_type": "markdown",
      "metadata": {
        "id": "iolnS21VUpbR"
      },
      "source": [
        "prepare output data"
      ]
    },
    {
      "cell_type": "code",
      "execution_count": 24,
      "metadata": {
        "id": "ZD0NbVTGUpbR"
      },
      "outputs": [],
      "source": [
        "y_train_enc, y_test_enc = prepare_targets(y_train, y_test)"
      ]
    },
    {
      "cell_type": "code",
      "execution_count": 25,
      "metadata": {
        "id": "u5GqJqWIUpbS"
      },
      "outputs": [],
      "source": [
        "#X_train_enc, X_val_enc, y_train_enc, y_val_enc = train_test_split(X_train_enc_0, y_train_enc_0, test_size=0.05, random_state=1)"
      ]
    },
    {
      "cell_type": "markdown",
      "metadata": {
        "id": "l5kcWo0YUpbS"
      },
      "source": [
        "-rint(\"==================================================\")"
      ]
    },
    {
      "cell_type": "code",
      "execution_count": 26,
      "metadata": {
        "id": "C7B7c5wFUpbd"
      },
      "outputs": [],
      "source": [
        "input_dim=len(Xcols)"
      ]
    },
    {
      "cell_type": "code",
      "execution_count": 27,
      "metadata": {
        "id": "doKMK5kutXF5",
        "colab": {
          "base_uri": "https://localhost:8080/"
        },
        "outputId": "35f6fb25-312f-4fef-b90e-387af91fcdb5"
      },
      "outputs": [
        {
          "output_type": "stream",
          "name": "stdout",
          "text": [
            "96\n"
          ]
        }
      ],
      "source": [
        "print(input_dim)"
      ]
    },
    {
      "cell_type": "code",
      "source": [
        "  #activity_regularizer=l1_l2 (l1=0.001,l2=0.00001)"
      ],
      "metadata": {
        "id": "1ZnCnd9mNGC0"
      },
      "execution_count": 28,
      "outputs": []
    },
    {
      "cell_type": "code",
      "execution_count": 29,
      "metadata": {
        "id": "_yxhvJku54qC"
      },
      "outputs": [],
      "source": [
        "checkpoint = ModelCheckpoint(\"airlinesat.h5\", monitor = 'val_accuracy', save_best_only=True)\n"
      ]
    },
    {
      "cell_type": "markdown",
      "metadata": {
        "id": "p0QGCEf4Upbe"
      },
      "source": [
        "Define the model"
      ]
    },
    {
      "cell_type": "code",
      "execution_count": 30,
      "metadata": {
        "id": "Ll80ggVfUpbf"
      },
      "outputs": [],
      "source": [
        "def create_model():\n",
        "  model = Sequential()\n",
        "  model.add(Dense(units=input_dim, activation='relu',activity_regularizer=l1_l2(l1=0.1,l2=0.000000001), input_dim=input_dim))\n",
        "  #model.add(Dense(units=0.5*input_dim,activation='relu'))\n",
        "  model.add(Dense(units=1, activation='sigmoid'))\n",
        "  model.compile(optimizer='adam', loss='binary_crossentropy', metrics=['accuracy'])\n",
        "  return model"
      ]
    },
    {
      "cell_type": "code",
      "source": [
        "model = create_model( )"
      ],
      "metadata": {
        "id": "IXn3dln3XI71"
      },
      "execution_count": 31,
      "outputs": []
    },
    {
      "cell_type": "markdown",
      "metadata": {
        "id": "54XjBmPzUpbi"
      },
      "source": [
        "Train the model on the training data using an appropriate loss function, optimizer, and evaluation metric."
      ]
    },
    {
      "cell_type": "code",
      "source": [
        "model.summary()"
      ],
      "metadata": {
        "id": "weBI_OPpNxKS",
        "colab": {
          "base_uri": "https://localhost:8080/"
        },
        "outputId": "ac4e6ba3-a882-4e86-b430-bbb9160226fc"
      },
      "execution_count": 32,
      "outputs": [
        {
          "output_type": "stream",
          "name": "stdout",
          "text": [
            "Model: \"sequential\"\n",
            "_________________________________________________________________\n",
            " Layer (type)                Output Shape              Param #   \n",
            "=================================================================\n",
            " dense (Dense)               (None, 96)                9312      \n",
            "                                                                 \n",
            " dense_1 (Dense)             (None, 1)                 97        \n",
            "                                                                 \n",
            "=================================================================\n",
            "Total params: 9409 (36.75 KB)\n",
            "Trainable params: 9409 (36.75 KB)\n",
            "Non-trainable params: 0 (0.00 Byte)\n",
            "_________________________________________________________________\n"
          ]
        }
      ]
    },
    {
      "cell_type": "markdown",
      "metadata": {
        "id": "ns8q1BbkUpbg"
      },
      "source": [
        "Training the model"
      ]
    },
    {
      "cell_type": "code",
      "source": [
        "ind={}\n",
        "\n",
        "def training_model(time_start,model,train,test,epochs,batch_size,callbacks,out_model,ind):\n",
        "      import pandas as pd\n",
        "      history0=model.fit(train[0],train[1],epochs=epochs,batch_size=batch_size,validation_data=test,callbacks=callbacks)\n",
        "      history=chain_histories(ind,history0)\n",
        "\n",
        "      # plot_history\n",
        "      plot_history(history, path=\"interpolated.png\", interpolate=True)\n",
        "      # Evaluate the model\n",
        "      loss, accuracy = model.evaluate(test[0], test[1])\n",
        "      print(f'Accuracy: {accuracy}')\n",
        "      ind =history\n",
        "      # save model and history\n",
        "      out=out_model+str(time_start)+\".h5\"\n",
        "      model.save(out)\n",
        "      hist_csv_file='history'+str(time_start) + '.csv'\n",
        "      history.to_csv(hist_csv_file,index=False)\n",
        "      return files.download(hist_csv_file), files.download(out),ind\n"
      ],
      "metadata": {
        "id": "aBdm-Pr95YKM"
      },
      "execution_count": 33,
      "outputs": []
    },
    {
      "cell_type": "code",
      "source": [
        "train=[X_train_enc,y_train_enc]"
      ],
      "metadata": {
        "id": "X4NkW_QTBR9X"
      },
      "execution_count": 34,
      "outputs": []
    },
    {
      "cell_type": "code",
      "source": [
        "test=[X_test_enc,y_test_enc]\n"
      ],
      "metadata": {
        "id": "VGiM8ngLBaNu"
      },
      "execution_count": 35,
      "outputs": []
    },
    {
      "cell_type": "code",
      "source": [
        "es = EarlyStopping(monitor='val_loss', mode='min', verbose=1, patience=70)"
      ],
      "metadata": {
        "id": "osFrWMB1znho"
      },
      "execution_count": 43,
      "outputs": []
    },
    {
      "cell_type": "code",
      "source": [
        "callbacks=[checkpoint,es]"
      ],
      "metadata": {
        "id": "t03XYMYcz3A-"
      },
      "execution_count": 37,
      "outputs": []
    },
    {
      "cell_type": "code",
      "source": [
        "for ii in range(1):\n",
        "  th=dt.datetime.now()\n",
        "  _,_,ind_new=training_model(th,model,train,test,50,64,callbacks,\"airlinessat\",ind)\n",
        "  ind = ind_new"
      ],
      "metadata": {
        "id": "-oytMJiYzLUr",
        "colab": {
          "base_uri": "https://localhost:8080/",
          "height": 1000
        },
        "outputId": "aa1f263d-5749-4d40-fd62-5567bc2e3e8f"
      },
      "execution_count": 38,
      "outputs": [
        {
          "output_type": "stream",
          "name": "stdout",
          "text": [
            "Epoch 1/50\n",
            "1827/1827 [==============================] - 5s 2ms/step - loss: 0.4699 - accuracy: 0.8563 - val_loss: 0.3330 - val_accuracy: 0.9262\n",
            "Epoch 2/50\n",
            "  78/1827 [>.............................] - ETA: 3s - loss: 0.3323 - accuracy: 0.9279"
          ]
        },
        {
          "output_type": "stream",
          "name": "stderr",
          "text": [
            "/usr/local/lib/python3.10/dist-packages/keras/src/engine/training.py:3103: UserWarning: You are saving your model as an HDF5 file via `model.save()`. This file format is considered legacy. We recommend using instead the native Keras format, e.g. `model.save('my_model.keras')`.\n",
            "  saving_api.save_model(\n"
          ]
        },
        {
          "output_type": "stream",
          "name": "stdout",
          "text": [
            "1827/1827 [==============================] - 4s 2ms/step - loss: 0.2988 - accuracy: 0.9306 - val_loss: 0.2725 - val_accuracy: 0.9334\n",
            "Epoch 3/50\n",
            "1827/1827 [==============================] - 5s 3ms/step - loss: 0.2563 - accuracy: 0.9357 - val_loss: 0.2418 - val_accuracy: 0.9355\n",
            "Epoch 4/50\n",
            "1827/1827 [==============================] - 4s 2ms/step - loss: 0.2299 - accuracy: 0.9373 - val_loss: 0.2200 - val_accuracy: 0.9379\n",
            "Epoch 5/50\n",
            "1827/1827 [==============================] - 4s 2ms/step - loss: 0.2116 - accuracy: 0.9393 - val_loss: 0.2050 - val_accuracy: 0.9413\n",
            "Epoch 6/50\n",
            "1827/1827 [==============================] - 5s 3ms/step - loss: 0.1988 - accuracy: 0.9412 - val_loss: 0.1950 - val_accuracy: 0.9413\n",
            "Epoch 7/50\n",
            "1827/1827 [==============================] - 4s 2ms/step - loss: 0.1890 - accuracy: 0.9441 - val_loss: 0.1842 - val_accuracy: 0.9499\n",
            "Epoch 8/50\n",
            "1827/1827 [==============================] - 4s 2ms/step - loss: 0.1791 - accuracy: 0.9525 - val_loss: 0.1758 - val_accuracy: 0.9533\n",
            "Epoch 9/50\n",
            "1827/1827 [==============================] - 4s 2ms/step - loss: 0.1716 - accuracy: 0.9536 - val_loss: 0.1696 - val_accuracy: 0.9537\n",
            "Epoch 10/50\n",
            "1827/1827 [==============================] - 4s 2ms/step - loss: 0.1660 - accuracy: 0.9550 - val_loss: 0.1647 - val_accuracy: 0.9542\n",
            "Epoch 11/50\n",
            "1827/1827 [==============================] - 4s 2ms/step - loss: 0.1615 - accuracy: 0.9552 - val_loss: 0.1612 - val_accuracy: 0.9544\n",
            "Epoch 12/50\n",
            "1827/1827 [==============================] - 4s 2ms/step - loss: 0.1581 - accuracy: 0.9555 - val_loss: 0.1577 - val_accuracy: 0.9549\n",
            "Epoch 13/50\n",
            "1827/1827 [==============================] - 5s 3ms/step - loss: 0.1552 - accuracy: 0.9560 - val_loss: 0.1549 - val_accuracy: 0.9550\n",
            "Epoch 14/50\n",
            "1827/1827 [==============================] - 4s 2ms/step - loss: 0.1528 - accuracy: 0.9560 - val_loss: 0.1531 - val_accuracy: 0.9540\n",
            "Epoch 15/50\n",
            "1827/1827 [==============================] - 4s 2ms/step - loss: 0.1507 - accuracy: 0.9562 - val_loss: 0.1519 - val_accuracy: 0.9553\n",
            "Epoch 16/50\n",
            "1827/1827 [==============================] - 5s 3ms/step - loss: 0.1491 - accuracy: 0.9559 - val_loss: 0.1505 - val_accuracy: 0.9562\n",
            "Epoch 17/50\n",
            "1827/1827 [==============================] - 4s 2ms/step - loss: 0.1476 - accuracy: 0.9565 - val_loss: 0.1486 - val_accuracy: 0.9559\n",
            "Epoch 18/50\n",
            "1827/1827 [==============================] - 4s 2ms/step - loss: 0.1462 - accuracy: 0.9563 - val_loss: 0.1472 - val_accuracy: 0.9554\n",
            "Epoch 19/50\n",
            "1827/1827 [==============================] - 4s 2ms/step - loss: 0.1449 - accuracy: 0.9565 - val_loss: 0.1463 - val_accuracy: 0.9553\n",
            "Epoch 20/50\n",
            "1827/1827 [==============================] - 5s 2ms/step - loss: 0.1438 - accuracy: 0.9567 - val_loss: 0.1455 - val_accuracy: 0.9549\n",
            "Epoch 21/50\n",
            "1827/1827 [==============================] - 4s 2ms/step - loss: 0.1431 - accuracy: 0.9565 - val_loss: 0.1449 - val_accuracy: 0.9546\n",
            "Epoch 22/50\n",
            "1827/1827 [==============================] - 4s 2ms/step - loss: 0.1420 - accuracy: 0.9564 - val_loss: 0.1434 - val_accuracy: 0.9549\n",
            "Epoch 23/50\n",
            "1827/1827 [==============================] - 5s 3ms/step - loss: 0.1414 - accuracy: 0.9565 - val_loss: 0.1430 - val_accuracy: 0.9556\n",
            "Epoch 24/50\n",
            "1827/1827 [==============================] - 4s 2ms/step - loss: 0.1403 - accuracy: 0.9565 - val_loss: 0.1419 - val_accuracy: 0.9557\n",
            "Epoch 25/50\n",
            "1827/1827 [==============================] - 4s 2ms/step - loss: 0.1393 - accuracy: 0.9567 - val_loss: 0.1427 - val_accuracy: 0.9547\n",
            "Epoch 26/50\n",
            "1827/1827 [==============================] - 5s 3ms/step - loss: 0.1385 - accuracy: 0.9570 - val_loss: 0.1405 - val_accuracy: 0.9558\n",
            "Epoch 27/50\n",
            "1827/1827 [==============================] - 4s 2ms/step - loss: 0.1375 - accuracy: 0.9571 - val_loss: 0.1393 - val_accuracy: 0.9558\n",
            "Epoch 28/50\n",
            "1827/1827 [==============================] - 4s 2ms/step - loss: 0.1368 - accuracy: 0.9569 - val_loss: 0.1390 - val_accuracy: 0.9572\n",
            "Epoch 29/50\n",
            "1827/1827 [==============================] - 4s 2ms/step - loss: 0.1360 - accuracy: 0.9573 - val_loss: 0.1379 - val_accuracy: 0.9554\n",
            "Epoch 30/50\n",
            "1827/1827 [==============================] - 4s 2ms/step - loss: 0.1351 - accuracy: 0.9570 - val_loss: 0.1383 - val_accuracy: 0.9558\n",
            "Epoch 31/50\n",
            "1827/1827 [==============================] - 4s 2ms/step - loss: 0.1345 - accuracy: 0.9572 - val_loss: 0.1360 - val_accuracy: 0.9555\n",
            "Epoch 32/50\n",
            "1827/1827 [==============================] - 4s 2ms/step - loss: 0.1340 - accuracy: 0.9570 - val_loss: 0.1358 - val_accuracy: 0.9555\n",
            "Epoch 33/50\n",
            "1827/1827 [==============================] - 5s 3ms/step - loss: 0.1333 - accuracy: 0.9574 - val_loss: 0.1353 - val_accuracy: 0.9563\n",
            "Epoch 34/50\n",
            "1827/1827 [==============================] - 4s 2ms/step - loss: 0.1330 - accuracy: 0.9573 - val_loss: 0.1350 - val_accuracy: 0.9563\n",
            "Epoch 35/50\n",
            "1827/1827 [==============================] - 4s 2ms/step - loss: 0.1325 - accuracy: 0.9571 - val_loss: 0.1331 - val_accuracy: 0.9566\n",
            "Epoch 36/50\n",
            "1827/1827 [==============================] - 5s 3ms/step - loss: 0.1318 - accuracy: 0.9575 - val_loss: 0.1336 - val_accuracy: 0.9560\n",
            "Epoch 37/50\n",
            "1827/1827 [==============================] - 4s 2ms/step - loss: 0.1315 - accuracy: 0.9573 - val_loss: 0.1342 - val_accuracy: 0.9552\n",
            "Epoch 38/50\n",
            "1827/1827 [==============================] - 4s 2ms/step - loss: 0.1309 - accuracy: 0.9575 - val_loss: 0.1322 - val_accuracy: 0.9561\n",
            "Epoch 39/50\n",
            "1827/1827 [==============================] - 4s 2ms/step - loss: 0.1308 - accuracy: 0.9574 - val_loss: 0.1334 - val_accuracy: 0.9560\n",
            "Epoch 40/50\n",
            "1827/1827 [==============================] - 5s 3ms/step - loss: 0.1303 - accuracy: 0.9573 - val_loss: 0.1339 - val_accuracy: 0.9557\n",
            "Epoch 41/50\n",
            "1827/1827 [==============================] - 4s 2ms/step - loss: 0.1297 - accuracy: 0.9577 - val_loss: 0.1306 - val_accuracy: 0.9563\n",
            "Epoch 42/50\n",
            "1827/1827 [==============================] - 4s 2ms/step - loss: 0.1293 - accuracy: 0.9578 - val_loss: 0.1314 - val_accuracy: 0.9561\n",
            "Epoch 43/50\n",
            "1827/1827 [==============================] - 5s 3ms/step - loss: 0.1291 - accuracy: 0.9575 - val_loss: 0.1301 - val_accuracy: 0.9566\n",
            "Epoch 44/50\n",
            "1827/1827 [==============================] - 4s 2ms/step - loss: 0.1287 - accuracy: 0.9578 - val_loss: 0.1309 - val_accuracy: 0.9564\n",
            "Epoch 45/50\n",
            "1827/1827 [==============================] - 4s 2ms/step - loss: 0.1284 - accuracy: 0.9577 - val_loss: 0.1289 - val_accuracy: 0.9573\n",
            "Epoch 46/50\n",
            "1827/1827 [==============================] - 5s 3ms/step - loss: 0.1281 - accuracy: 0.9569 - val_loss: 0.1295 - val_accuracy: 0.9566\n",
            "Epoch 47/50\n",
            "1827/1827 [==============================] - 4s 2ms/step - loss: 0.1279 - accuracy: 0.9577 - val_loss: 0.1282 - val_accuracy: 0.9577\n",
            "Epoch 48/50\n",
            "1827/1827 [==============================] - 4s 2ms/step - loss: 0.1275 - accuracy: 0.9576 - val_loss: 0.1305 - val_accuracy: 0.9570\n",
            "Epoch 49/50\n",
            "1827/1827 [==============================] - 4s 2ms/step - loss: 0.1274 - accuracy: 0.9577 - val_loss: 0.1280 - val_accuracy: 0.9562\n",
            "Epoch 50/50\n",
            "1827/1827 [==============================] - 5s 2ms/step - loss: 0.1270 - accuracy: 0.9577 - val_loss: 0.1287 - val_accuracy: 0.9573\n",
            "406/406 [==============================] - 1s 2ms/step - loss: 0.1287 - accuracy: 0.9573\n",
            "Accuracy: 0.9573452472686768\n"
          ]
        },
        {
          "output_type": "stream",
          "name": "stderr",
          "text": [
            "/usr/local/lib/python3.10/dist-packages/keras/src/engine/training.py:3103: UserWarning: You are saving your model as an HDF5 file via `model.save()`. This file format is considered legacy. We recommend using instead the native Keras format, e.g. `model.save('my_model.keras')`.\n",
            "  saving_api.save_model(\n"
          ]
        },
        {
          "output_type": "display_data",
          "data": {
            "text/plain": [
              "<IPython.core.display.Javascript object>"
            ],
            "application/javascript": [
              "\n",
              "    async function download(id, filename, size) {\n",
              "      if (!google.colab.kernel.accessAllowed) {\n",
              "        return;\n",
              "      }\n",
              "      const div = document.createElement('div');\n",
              "      const label = document.createElement('label');\n",
              "      label.textContent = `Downloading \"${filename}\": `;\n",
              "      div.appendChild(label);\n",
              "      const progress = document.createElement('progress');\n",
              "      progress.max = size;\n",
              "      div.appendChild(progress);\n",
              "      document.body.appendChild(div);\n",
              "\n",
              "      const buffers = [];\n",
              "      let downloaded = 0;\n",
              "\n",
              "      const channel = await google.colab.kernel.comms.open(id);\n",
              "      // Send a message to notify the kernel that we're ready.\n",
              "      channel.send({})\n",
              "\n",
              "      for await (const message of channel.messages) {\n",
              "        // Send a message to notify the kernel that we're ready.\n",
              "        channel.send({})\n",
              "        if (message.buffers) {\n",
              "          for (const buffer of message.buffers) {\n",
              "            buffers.push(buffer);\n",
              "            downloaded += buffer.byteLength;\n",
              "            progress.value = downloaded;\n",
              "          }\n",
              "        }\n",
              "      }\n",
              "      const blob = new Blob(buffers, {type: 'application/binary'});\n",
              "      const a = document.createElement('a');\n",
              "      a.href = window.URL.createObjectURL(blob);\n",
              "      a.download = filename;\n",
              "      div.appendChild(a);\n",
              "      a.click();\n",
              "      div.remove();\n",
              "    }\n",
              "  "
            ]
          },
          "metadata": {}
        },
        {
          "output_type": "display_data",
          "data": {
            "text/plain": [
              "<IPython.core.display.Javascript object>"
            ],
            "application/javascript": [
              "download(\"download_882e7df0-d15c-4109-b579-7e6de1326760\", \"history2024-02-13 11:05:39.520385.csv\", 3890)"
            ]
          },
          "metadata": {}
        },
        {
          "output_type": "display_data",
          "data": {
            "text/plain": [
              "<IPython.core.display.Javascript object>"
            ],
            "application/javascript": [
              "\n",
              "    async function download(id, filename, size) {\n",
              "      if (!google.colab.kernel.accessAllowed) {\n",
              "        return;\n",
              "      }\n",
              "      const div = document.createElement('div');\n",
              "      const label = document.createElement('label');\n",
              "      label.textContent = `Downloading \"${filename}\": `;\n",
              "      div.appendChild(label);\n",
              "      const progress = document.createElement('progress');\n",
              "      progress.max = size;\n",
              "      div.appendChild(progress);\n",
              "      document.body.appendChild(div);\n",
              "\n",
              "      const buffers = [];\n",
              "      let downloaded = 0;\n",
              "\n",
              "      const channel = await google.colab.kernel.comms.open(id);\n",
              "      // Send a message to notify the kernel that we're ready.\n",
              "      channel.send({})\n",
              "\n",
              "      for await (const message of channel.messages) {\n",
              "        // Send a message to notify the kernel that we're ready.\n",
              "        channel.send({})\n",
              "        if (message.buffers) {\n",
              "          for (const buffer of message.buffers) {\n",
              "            buffers.push(buffer);\n",
              "            downloaded += buffer.byteLength;\n",
              "            progress.value = downloaded;\n",
              "          }\n",
              "        }\n",
              "      }\n",
              "      const blob = new Blob(buffers, {type: 'application/binary'});\n",
              "      const a = document.createElement('a');\n",
              "      a.href = window.URL.createObjectURL(blob);\n",
              "      a.download = filename;\n",
              "      div.appendChild(a);\n",
              "      a.click();\n",
              "      div.remove();\n",
              "    }\n",
              "  "
            ]
          },
          "metadata": {}
        },
        {
          "output_type": "display_data",
          "data": {
            "text/plain": [
              "<IPython.core.display.Javascript object>"
            ],
            "application/javascript": [
              "download(\"download_5f43cb32-d020-4612-bce9-76a8cd41f70c\", \"airlinessat2024-02-13 11:05:39.520385.h5\", 138872)"
            ]
          },
          "metadata": {}
        },
        {
          "output_type": "display_data",
          "data": {
            "text/plain": [
              "<Figure size 1000x500 with 2 Axes>"
            ],
            "image/png": "[encoded data removed]"
          },
          "metadata": {}
        }
      ]
    },
    {
      "cell_type": "markdown",
      "metadata": {
        "id": "VjUEnZCWUpbk"
      },
      "source": [
        "Evaluate the model's performance on the testing set using metrics such as accuracy, precision, recall, and F1 score."
      ]
    },
    {
      "cell_type": "code",
      "source": [
        "for ii in range(1):\n",
        "  th=dt.datetime.now()\n",
        "  _,_,ind_new=training_model(th,model,train,test,50,64,callbacks,\"airlinessat\",ind)\n",
        "  ind = ind_new"
      ],
      "metadata": {
        "colab": {
          "base_uri": "https://localhost:8080/",
          "height": 1000
        },
        "id": "wtxAhAqNLFdM",
        "outputId": "cbc23e69-8623-494e-b3f8-3dfbce89d4f3"
      },
      "execution_count": 44,
      "outputs": [
        {
          "output_type": "stream",
          "name": "stdout",
          "text": [
            "Epoch 1/50\n",
            "1827/1827 [==============================] - 4s 2ms/step - loss: 0.1268 - accuracy: 0.9576 - val_loss: 0.1277 - val_accuracy: 0.9573\n",
            "Epoch 2/50\n",
            "1827/1827 [==============================] - 4s 2ms/step - loss: 0.1265 - accuracy: 0.9577 - val_loss: 0.1277 - val_accuracy: 0.9570\n",
            "Epoch 3/50\n",
            "1827/1827 [==============================] - 4s 2ms/step - loss: 0.1263 - accuracy: 0.9577 - val_loss: 0.1275 - val_accuracy: 0.9569\n",
            "Epoch 4/50\n",
            "1827/1827 [==============================] - 5s 3ms/step - loss: 0.1261 - accuracy: 0.9576 - val_loss: 0.1303 - val_accuracy: 0.9560\n",
            "Epoch 5/50\n",
            "1827/1827 [==============================] - 4s 2ms/step - loss: 0.1260 - accuracy: 0.9575 - val_loss: 0.1262 - val_accuracy: 0.9573\n",
            "Epoch 6/50\n",
            "1827/1827 [==============================] - 4s 2ms/step - loss: 0.1256 - accuracy: 0.9574 - val_loss: 0.1286 - val_accuracy: 0.9557\n",
            "Epoch 7/50\n",
            "1827/1827 [==============================] - 5s 3ms/step - loss: 0.1256 - accuracy: 0.9580 - val_loss: 0.1267 - val_accuracy: 0.9566\n",
            "Epoch 8/50\n",
            "1827/1827 [==============================] - 4s 2ms/step - loss: 0.1251 - accuracy: 0.9580 - val_loss: 0.1262 - val_accuracy: 0.9577\n",
            "Epoch 9/50\n",
            "1827/1827 [==============================] - 4s 2ms/step - loss: 0.1250 - accuracy: 0.9577 - val_loss: 0.1270 - val_accuracy: 0.9575\n",
            "Epoch 10/50\n",
            "1827/1827 [==============================] - 5s 3ms/step - loss: 0.1248 - accuracy: 0.9578 - val_loss: 0.1261 - val_accuracy: 0.9581\n",
            "Epoch 11/50\n",
            "1827/1827 [==============================] - 4s 2ms/step - loss: 0.1249 - accuracy: 0.9577 - val_loss: 0.1264 - val_accuracy: 0.9571\n",
            "Epoch 12/50\n",
            "1827/1827 [==============================] - 4s 2ms/step - loss: 0.1247 - accuracy: 0.9582 - val_loss: 0.1246 - val_accuracy: 0.9582\n",
            "Epoch 13/50\n",
            "1827/1827 [==============================] - 4s 2ms/step - loss: 0.1243 - accuracy: 0.9575 - val_loss: 0.1248 - val_accuracy: 0.9579\n",
            "Epoch 14/50\n",
            "1827/1827 [==============================] - 5s 3ms/step - loss: 0.1245 - accuracy: 0.9576 - val_loss: 0.1246 - val_accuracy: 0.9567\n",
            "Epoch 15/50\n",
            "1827/1827 [==============================] - 4s 2ms/step - loss: 0.1240 - accuracy: 0.9577 - val_loss: 0.1258 - val_accuracy: 0.9567\n",
            "Epoch 16/50\n",
            "1827/1827 [==============================] - 4s 2ms/step - loss: 0.1243 - accuracy: 0.9583 - val_loss: 0.1251 - val_accuracy: 0.9573\n",
            "Epoch 17/50\n",
            "1827/1827 [==============================] - 5s 3ms/step - loss: 0.1243 - accuracy: 0.9579 - val_loss: 0.1253 - val_accuracy: 0.9570\n",
            "Epoch 18/50\n",
            "1827/1827 [==============================] - 4s 2ms/step - loss: 0.1239 - accuracy: 0.9578 - val_loss: 0.1259 - val_accuracy: 0.9571\n",
            "Epoch 19/50\n",
            "1827/1827 [==============================] - 4s 2ms/step - loss: 0.1238 - accuracy: 0.9579 - val_loss: 0.1245 - val_accuracy: 0.9587\n",
            "Epoch 20/50\n",
            "1827/1827 [==============================] - 4s 2ms/step - loss: 0.1236 - accuracy: 0.9577 - val_loss: 0.1234 - val_accuracy: 0.9580\n",
            "Epoch 21/50\n",
            "1827/1827 [==============================] - 4s 2ms/step - loss: 0.1237 - accuracy: 0.9580 - val_loss: 0.1245 - val_accuracy: 0.9587\n",
            "Epoch 22/50\n",
            "1827/1827 [==============================] - 4s 2ms/step - loss: 0.1233 - accuracy: 0.9584 - val_loss: 0.1234 - val_accuracy: 0.9580\n",
            "Epoch 23/50\n",
            "1827/1827 [==============================] - 4s 2ms/step - loss: 0.1234 - accuracy: 0.9581 - val_loss: 0.1239 - val_accuracy: 0.9576\n",
            "Epoch 24/50\n",
            "1827/1827 [==============================] - 5s 3ms/step - loss: 0.1235 - accuracy: 0.9574 - val_loss: 0.1244 - val_accuracy: 0.9571\n",
            "Epoch 25/50\n",
            "1827/1827 [==============================] - 4s 2ms/step - loss: 0.1229 - accuracy: 0.9578 - val_loss: 0.1270 - val_accuracy: 0.9552\n",
            "Epoch 26/50\n",
            "1827/1827 [==============================] - 4s 2ms/step - loss: 0.1228 - accuracy: 0.9577 - val_loss: 0.1239 - val_accuracy: 0.9580\n",
            "Epoch 27/50\n",
            "1827/1827 [==============================] - 5s 3ms/step - loss: 0.1229 - accuracy: 0.9580 - val_loss: 0.1229 - val_accuracy: 0.9588\n",
            "Epoch 28/50\n",
            "1827/1827 [==============================] - 4s 2ms/step - loss: 0.1227 - accuracy: 0.9579 - val_loss: 0.1255 - val_accuracy: 0.9568\n",
            "Epoch 29/50\n",
            "1827/1827 [==============================] - 4s 2ms/step - loss: 0.1227 - accuracy: 0.9576 - val_loss: 0.1243 - val_accuracy: 0.9576\n",
            "Epoch 30/50\n",
            "1827/1827 [==============================] - 4s 2ms/step - loss: 0.1225 - accuracy: 0.9578 - val_loss: 0.1235 - val_accuracy: 0.9568\n",
            "Epoch 31/50\n",
            "1827/1827 [==============================] - 4s 2ms/step - loss: 0.1225 - accuracy: 0.9575 - val_loss: 0.1263 - val_accuracy: 0.9569\n",
            "Epoch 32/50\n",
            "1827/1827 [==============================] - 4s 2ms/step - loss: 0.1225 - accuracy: 0.9579 - val_loss: 0.1231 - val_accuracy: 0.9578\n",
            "Epoch 33/50\n",
            "1827/1827 [==============================] - 4s 2ms/step - loss: 0.1221 - accuracy: 0.9578 - val_loss: 0.1226 - val_accuracy: 0.9588\n",
            "Epoch 34/50\n",
            "1827/1827 [==============================] - 5s 3ms/step - loss: 0.1222 - accuracy: 0.9581 - val_loss: 0.1236 - val_accuracy: 0.9573\n",
            "Epoch 35/50\n",
            "1827/1827 [==============================] - 4s 2ms/step - loss: 0.1221 - accuracy: 0.9578 - val_loss: 0.1225 - val_accuracy: 0.9569\n",
            "Epoch 36/50\n",
            "1827/1827 [==============================] - 4s 2ms/step - loss: 0.1220 - accuracy: 0.9578 - val_loss: 0.1223 - val_accuracy: 0.9580\n",
            "Epoch 37/50\n",
            "1827/1827 [==============================] - 4s 2ms/step - loss: 0.1222 - accuracy: 0.9581 - val_loss: 0.1230 - val_accuracy: 0.9575\n",
            "Epoch 38/50\n",
            "1827/1827 [==============================] - 4s 2ms/step - loss: 0.1219 - accuracy: 0.9577 - val_loss: 0.1229 - val_accuracy: 0.9573\n",
            "Epoch 39/50\n",
            "1827/1827 [==============================] - 4s 2ms/step - loss: 0.1219 - accuracy: 0.9576 - val_loss: 0.1229 - val_accuracy: 0.9581\n",
            "Epoch 40/50\n",
            "1827/1827 [==============================] - 4s 2ms/step - loss: 0.1218 - accuracy: 0.9577 - val_loss: 0.1222 - val_accuracy: 0.9581\n",
            "Epoch 41/50\n",
            "1827/1827 [==============================] - 5s 3ms/step - loss: 0.1218 - accuracy: 0.9578 - val_loss: 0.1224 - val_accuracy: 0.9576\n",
            "Epoch 42/50\n",
            "1827/1827 [==============================] - 4s 2ms/step - loss: 0.1216 - accuracy: 0.9579 - val_loss: 0.1230 - val_accuracy: 0.9574\n",
            "Epoch 43/50\n",
            "1827/1827 [==============================] - 4s 2ms/step - loss: 0.1217 - accuracy: 0.9577 - val_loss: 0.1238 - val_accuracy: 0.9573\n",
            "Epoch 44/50\n",
            "1827/1827 [==============================] - 5s 3ms/step - loss: 0.1214 - accuracy: 0.9578 - val_loss: 0.1245 - val_accuracy: 0.9579\n",
            "Epoch 45/50\n",
            "1827/1827 [==============================] - 4s 2ms/step - loss: 0.1215 - accuracy: 0.9577 - val_loss: 0.1220 - val_accuracy: 0.9584\n",
            "Epoch 46/50\n",
            "1827/1827 [==============================] - 4s 2ms/step - loss: 0.1213 - accuracy: 0.9583 - val_loss: 0.1214 - val_accuracy: 0.9577\n",
            "Epoch 47/50\n",
            "1827/1827 [==============================] - 4s 2ms/step - loss: 0.1215 - accuracy: 0.9577 - val_loss: 0.1230 - val_accuracy: 0.9575\n",
            "Epoch 48/50\n",
            "1827/1827 [==============================] - 4s 2ms/step - loss: 0.1214 - accuracy: 0.9578 - val_loss: 0.1221 - val_accuracy: 0.9569\n",
            "Epoch 49/50\n",
            "1827/1827 [==============================] - 4s 2ms/step - loss: 0.1211 - accuracy: 0.9579 - val_loss: 0.1238 - val_accuracy: 0.9579\n",
            "Epoch 50/50\n",
            "1827/1827 [==============================] - 4s 2ms/step - loss: 0.1211 - accuracy: 0.9579 - val_loss: 0.1213 - val_accuracy: 0.9580\n",
            "406/406 [==============================] - 1s 2ms/step - loss: 0.1213 - accuracy: 0.9580\n",
            "Accuracy: 0.9579612016677856\n"
          ]
        },
        {
          "output_type": "stream",
          "name": "stderr",
          "text": [
            "/usr/local/lib/python3.10/dist-packages/keras/src/engine/training.py:3103: UserWarning: You are saving your model as an HDF5 file via `model.save()`. This file format is considered legacy. We recommend using instead the native Keras format, e.g. `model.save('my_model.keras')`.\n",
            "  saving_api.save_model(\n"
          ]
        },
        {
          "output_type": "display_data",
          "data": {
            "text/plain": [
              "<IPython.core.display.Javascript object>"
            ],
            "application/javascript": [
              "\n",
              "    async function download(id, filename, size) {\n",
              "      if (!google.colab.kernel.accessAllowed) {\n",
              "        return;\n",
              "      }\n",
              "      const div = document.createElement('div');\n",
              "      const label = document.createElement('label');\n",
              "      label.textContent = `Downloading \"${filename}\": `;\n",
              "      div.appendChild(label);\n",
              "      const progress = document.createElement('progress');\n",
              "      progress.max = size;\n",
              "      div.appendChild(progress);\n",
              "      document.body.appendChild(div);\n",
              "\n",
              "      const buffers = [];\n",
              "      let downloaded = 0;\n",
              "\n",
              "      const channel = await google.colab.kernel.comms.open(id);\n",
              "      // Send a message to notify the kernel that we're ready.\n",
              "      channel.send({})\n",
              "\n",
              "      for await (const message of channel.messages) {\n",
              "        // Send a message to notify the kernel that we're ready.\n",
              "        channel.send({})\n",
              "        if (message.buffers) {\n",
              "          for (const buffer of message.buffers) {\n",
              "            buffers.push(buffer);\n",
              "            downloaded += buffer.byteLength;\n",
              "            progress.value = downloaded;\n",
              "          }\n",
              "        }\n",
              "      }\n",
              "      const blob = new Blob(buffers, {type: 'application/binary'});\n",
              "      const a = document.createElement('a');\n",
              "      a.href = window.URL.createObjectURL(blob);\n",
              "      a.download = filename;\n",
              "      div.appendChild(a);\n",
              "      a.click();\n",
              "      div.remove();\n",
              "    }\n",
              "  "
            ]
          },
          "metadata": {}
        },
        {
          "output_type": "display_data",
          "data": {
            "text/plain": [
              "<IPython.core.display.Javascript object>"
            ],
            "application/javascript": [
              "download(\"download_c660a82c-5a06-45c8-bd7c-785e5a3e9cfe\", \"history2024-02-13 11:14:29.803235.csv\", 7759)"
            ]
          },
          "metadata": {}
        },
        {
          "output_type": "display_data",
          "data": {
            "text/plain": [
              "<IPython.core.display.Javascript object>"
            ],
            "application/javascript": [
              "\n",
              "    async function download(id, filename, size) {\n",
              "      if (!google.colab.kernel.accessAllowed) {\n",
              "        return;\n",
              "      }\n",
              "      const div = document.createElement('div');\n",
              "      const label = document.createElement('label');\n",
              "      label.textContent = `Downloading \"${filename}\": `;\n",
              "      div.appendChild(label);\n",
              "      const progress = document.createElement('progress');\n",
              "      progress.max = size;\n",
              "      div.appendChild(progress);\n",
              "      document.body.appendChild(div);\n",
              "\n",
              "      const buffers = [];\n",
              "      let downloaded = 0;\n",
              "\n",
              "      const channel = await google.colab.kernel.comms.open(id);\n",
              "      // Send a message to notify the kernel that we're ready.\n",
              "      channel.send({})\n",
              "\n",
              "      for await (const message of channel.messages) {\n",
              "        // Send a message to notify the kernel that we're ready.\n",
              "        channel.send({})\n",
              "        if (message.buffers) {\n",
              "          for (const buffer of message.buffers) {\n",
              "            buffers.push(buffer);\n",
              "            downloaded += buffer.byteLength;\n",
              "            progress.value = downloaded;\n",
              "          }\n",
              "        }\n",
              "      }\n",
              "      const blob = new Blob(buffers, {type: 'application/binary'});\n",
              "      const a = document.createElement('a');\n",
              "      a.href = window.URL.createObjectURL(blob);\n",
              "      a.download = filename;\n",
              "      div.appendChild(a);\n",
              "      a.click();\n",
              "      div.remove();\n",
              "    }\n",
              "  "
            ]
          },
          "metadata": {}
        },
        {
          "output_type": "display_data",
          "data": {
            "text/plain": [
              "<IPython.core.display.Javascript object>"
            ],
            "application/javascript": [
              "download(\"download_04d23ac3-ea40-48a8-918a-124688d3c90b\", \"airlinessat2024-02-13 11:14:29.803235.h5\", 138872)"
            ]
          },
          "metadata": {}
        },
        {
          "output_type": "display_data",
          "data": {
            "text/plain": [
              "<Figure size 1000x500 with 2 Axes>"
            ],
            "image/png": "[encoded data removed]"
          },
          "metadata": {}
        }
      ]
    },
    {
      "cell_type": "code",
      "source": [
        "for ii in range(1):\n",
        "  th=dt.datetime.now()\n",
        "  _,_,ind_new=training_model(th,model,train,test,50,64,callbacks,\"airlinessat\",ind)\n",
        "  ind = ind_new"
      ],
      "metadata": {
        "colab": {
          "base_uri": "https://localhost:8080/",
          "height": 1000
        },
        "id": "kCcUug1wMS4u",
        "outputId": "043d6876-7fc9-450b-99c8-b573d6017462"
      },
      "execution_count": 45,
      "outputs": [
        {
          "output_type": "stream",
          "name": "stdout",
          "text": [
            "Epoch 1/50\n",
            "1827/1827 [==============================] - 5s 3ms/step - loss: 0.1210 - accuracy: 0.9577 - val_loss: 0.1206 - val_accuracy: 0.9588\n",
            "Epoch 2/50\n",
            "1827/1827 [==============================] - 4s 2ms/step - loss: 0.1211 - accuracy: 0.9578 - val_loss: 0.1212 - val_accuracy: 0.9568\n",
            "Epoch 3/50\n",
            "1827/1827 [==============================] - 4s 2ms/step - loss: 0.1210 - accuracy: 0.9573 - val_loss: 0.1236 - val_accuracy: 0.9560\n",
            "Epoch 4/50\n",
            "1827/1827 [==============================] - 4s 2ms/step - loss: 0.1209 - accuracy: 0.9580 - val_loss: 0.1209 - val_accuracy: 0.9577\n",
            "Epoch 5/50\n",
            "1827/1827 [==============================] - 4s 2ms/step - loss: 0.1208 - accuracy: 0.9578 - val_loss: 0.1223 - val_accuracy: 0.9579\n",
            "Epoch 6/50\n",
            "1827/1827 [==============================] - 4s 2ms/step - loss: 0.1208 - accuracy: 0.9576 - val_loss: 0.1232 - val_accuracy: 0.9574\n",
            "Epoch 7/50\n",
            "1827/1827 [==============================] - 4s 2ms/step - loss: 0.1208 - accuracy: 0.9579 - val_loss: 0.1195 - val_accuracy: 0.9584\n",
            "Epoch 8/50\n",
            "1827/1827 [==============================] - 5s 3ms/step - loss: 0.1207 - accuracy: 0.9579 - val_loss: 0.1219 - val_accuracy: 0.9572\n",
            "Epoch 9/50\n",
            "1827/1827 [==============================] - 4s 2ms/step - loss: 0.1206 - accuracy: 0.9579 - val_loss: 0.1227 - val_accuracy: 0.9553\n",
            "Epoch 10/50\n",
            "1827/1827 [==============================] - 4s 2ms/step - loss: 0.1205 - accuracy: 0.9577 - val_loss: 0.1213 - val_accuracy: 0.9577\n",
            "Epoch 11/50\n",
            "1827/1827 [==============================] - 4s 2ms/step - loss: 0.1204 - accuracy: 0.9580 - val_loss: 0.1236 - val_accuracy: 0.9573\n",
            "Epoch 12/50\n",
            "1827/1827 [==============================] - 4s 2ms/step - loss: 0.1204 - accuracy: 0.9577 - val_loss: 0.1207 - val_accuracy: 0.9590\n",
            "Epoch 13/50\n",
            "1827/1827 [==============================] - 4s 2ms/step - loss: 0.1204 - accuracy: 0.9574 - val_loss: 0.1227 - val_accuracy: 0.9579\n",
            "Epoch 14/50\n",
            "1827/1827 [==============================] - 4s 2ms/step - loss: 0.1202 - accuracy: 0.9576 - val_loss: 0.1203 - val_accuracy: 0.9583\n",
            "Epoch 15/50\n",
            "1827/1827 [==============================] - 4s 2ms/step - loss: 0.1204 - accuracy: 0.9577 - val_loss: 0.1209 - val_accuracy: 0.9583\n",
            "Epoch 16/50\n",
            "1827/1827 [==============================] - 4s 2ms/step - loss: 0.1204 - accuracy: 0.9579 - val_loss: 0.1198 - val_accuracy: 0.9589\n",
            "Epoch 17/50\n",
            "1827/1827 [==============================] - 4s 2ms/step - loss: 0.1204 - accuracy: 0.9580 - val_loss: 0.1217 - val_accuracy: 0.9574\n",
            "Epoch 18/50\n",
            "1827/1827 [==============================] - 5s 3ms/step - loss: 0.1201 - accuracy: 0.9574 - val_loss: 0.1223 - val_accuracy: 0.9574\n",
            "Epoch 19/50\n",
            "1827/1827 [==============================] - 4s 2ms/step - loss: 0.1202 - accuracy: 0.9578 - val_loss: 0.1220 - val_accuracy: 0.9577\n",
            "Epoch 20/50\n",
            "1827/1827 [==============================] - 4s 2ms/step - loss: 0.1201 - accuracy: 0.9578 - val_loss: 0.1221 - val_accuracy: 0.9571\n",
            "Epoch 21/50\n",
            "1827/1827 [==============================] - 5s 2ms/step - loss: 0.1198 - accuracy: 0.9583 - val_loss: 0.1198 - val_accuracy: 0.9591\n",
            "Epoch 22/50\n",
            "1827/1827 [==============================] - 4s 2ms/step - loss: 0.1200 - accuracy: 0.9576 - val_loss: 0.1217 - val_accuracy: 0.9574\n",
            "Epoch 23/50\n",
            "1827/1827 [==============================] - 4s 2ms/step - loss: 0.1202 - accuracy: 0.9576 - val_loss: 0.1217 - val_accuracy: 0.9564\n",
            "Epoch 24/50\n",
            "1827/1827 [==============================] - 4s 2ms/step - loss: 0.1198 - accuracy: 0.9578 - val_loss: 0.1210 - val_accuracy: 0.9573\n",
            "Epoch 25/50\n",
            "1827/1827 [==============================] - 5s 3ms/step - loss: 0.1198 - accuracy: 0.9582 - val_loss: 0.1217 - val_accuracy: 0.9565\n",
            "Epoch 26/50\n",
            "1827/1827 [==============================] - 4s 2ms/step - loss: 0.1201 - accuracy: 0.9579 - val_loss: 0.1215 - val_accuracy: 0.9568\n",
            "Epoch 27/50\n",
            "1827/1827 [==============================] - 4s 2ms/step - loss: 0.1200 - accuracy: 0.9578 - val_loss: 0.1204 - val_accuracy: 0.9570\n",
            "Epoch 27: early stopping\n",
            "406/406 [==============================] - 1s 2ms/step - loss: 0.1204 - accuracy: 0.9570\n",
            "Accuracy: 0.9569602608680725\n"
          ]
        },
        {
          "output_type": "stream",
          "name": "stderr",
          "text": [
            "/usr/local/lib/python3.10/dist-packages/keras/src/engine/training.py:3103: UserWarning: You are saving your model as an HDF5 file via `model.save()`. This file format is considered legacy. We recommend using instead the native Keras format, e.g. `model.save('my_model.keras')`.\n",
            "  saving_api.save_model(\n"
          ]
        },
        {
          "output_type": "display_data",
          "data": {
            "text/plain": [
              "<IPython.core.display.Javascript object>"
            ],
            "application/javascript": [
              "\n",
              "    async function download(id, filename, size) {\n",
              "      if (!google.colab.kernel.accessAllowed) {\n",
              "        return;\n",
              "      }\n",
              "      const div = document.createElement('div');\n",
              "      const label = document.createElement('label');\n",
              "      label.textContent = `Downloading \"${filename}\": `;\n",
              "      div.appendChild(label);\n",
              "      const progress = document.createElement('progress');\n",
              "      progress.max = size;\n",
              "      div.appendChild(progress);\n",
              "      document.body.appendChild(div);\n",
              "\n",
              "      const buffers = [];\n",
              "      let downloaded = 0;\n",
              "\n",
              "      const channel = await google.colab.kernel.comms.open(id);\n",
              "      // Send a message to notify the kernel that we're ready.\n",
              "      channel.send({})\n",
              "\n",
              "      for await (const message of channel.messages) {\n",
              "        // Send a message to notify the kernel that we're ready.\n",
              "        channel.send({})\n",
              "        if (message.buffers) {\n",
              "          for (const buffer of message.buffers) {\n",
              "            buffers.push(buffer);\n",
              "            downloaded += buffer.byteLength;\n",
              "            progress.value = downloaded;\n",
              "          }\n",
              "        }\n",
              "      }\n",
              "      const blob = new Blob(buffers, {type: 'application/binary'});\n",
              "      const a = document.createElement('a');\n",
              "      a.href = window.URL.createObjectURL(blob);\n",
              "      a.download = filename;\n",
              "      div.appendChild(a);\n",
              "      a.click();\n",
              "      div.remove();\n",
              "    }\n",
              "  "
            ]
          },
          "metadata": {}
        },
        {
          "output_type": "display_data",
          "data": {
            "text/plain": [
              "<IPython.core.display.Javascript object>"
            ],
            "application/javascript": [
              "download(\"download_cd1c838b-fda2-4a2d-bad2-d9e5ccdd7839\", \"history2024-02-13 11:19:26.590348.csv\", 9851)"
            ]
          },
          "metadata": {}
        },
        {
          "output_type": "display_data",
          "data": {
            "text/plain": [
              "<IPython.core.display.Javascript object>"
            ],
            "application/javascript": [
              "\n",
              "    async function download(id, filename, size) {\n",
              "      if (!google.colab.kernel.accessAllowed) {\n",
              "        return;\n",
              "      }\n",
              "      const div = document.createElement('div');\n",
              "      const label = document.createElement('label');\n",
              "      label.textContent = `Downloading \"${filename}\": `;\n",
              "      div.appendChild(label);\n",
              "      const progress = document.createElement('progress');\n",
              "      progress.max = size;\n",
              "      div.appendChild(progress);\n",
              "      document.body.appendChild(div);\n",
              "\n",
              "      const buffers = [];\n",
              "      let downloaded = 0;\n",
              "\n",
              "      const channel = await google.colab.kernel.comms.open(id);\n",
              "      // Send a message to notify the kernel that we're ready.\n",
              "      channel.send({})\n",
              "\n",
              "      for await (const message of channel.messages) {\n",
              "        // Send a message to notify the kernel that we're ready.\n",
              "        channel.send({})\n",
              "        if (message.buffers) {\n",
              "          for (const buffer of message.buffers) {\n",
              "            buffers.push(buffer);\n",
              "            downloaded += buffer.byteLength;\n",
              "            progress.value = downloaded;\n",
              "          }\n",
              "        }\n",
              "      }\n",
              "      const blob = new Blob(buffers, {type: 'application/binary'});\n",
              "      const a = document.createElement('a');\n",
              "      a.href = window.URL.createObjectURL(blob);\n",
              "      a.download = filename;\n",
              "      div.appendChild(a);\n",
              "      a.click();\n",
              "      div.remove();\n",
              "    }\n",
              "  "
            ]
          },
          "metadata": {}
        },
        {
          "output_type": "display_data",
          "data": {
            "text/plain": [
              "<IPython.core.display.Javascript object>"
            ],
            "application/javascript": [
              "download(\"download_a65d7bc9-d898-4a40-b528-deb0caf3f6f5\", \"airlinessat2024-02-13 11:19:26.590348.h5\", 138872)"
            ]
          },
          "metadata": {}
        },
        {
          "output_type": "display_data",
          "data": {
            "text/plain": [
              "<Figure size 1000x500 with 2 Axes>"
            ],
            "image/png": "[encoded data removed]"
          },
          "metadata": {}
        }
      ]
    },
    {
      "cell_type": "code",
      "source": [
        "#plot_history(history, path=\"interpolated.png\", interpolate=True)"
      ],
      "metadata": {
        "id": "mPt6V5MIzDhB"
      },
      "execution_count": 39,
      "outputs": []
    },
    {
      "cell_type": "code",
      "execution_count": 40,
      "metadata": {
        "id": "lNKPJUIOUpbk"
      },
      "outputs": [],
      "source": [
        "#loss, accuracy = model.evaluate(X_test_enc, y_test_enc)"
      ]
    },
    {
      "cell_type": "code",
      "execution_count": 41,
      "metadata": {
        "id": "POe22uYVUpbl"
      },
      "outputs": [],
      "source": [
        "#print(f'Accuracy: {accuracy}')"
      ]
    },
    {
      "cell_type": "markdown",
      "metadata": {
        "id": "JddLWiboUpbl"
      },
      "source": [
        "Fine-Tuning:"
      ]
    },
    {
      "cell_type": "markdown",
      "metadata": {
        "id": "c577VTDOUpbl"
      },
      "source": [
        "Experiment with hyperparameter tuning, adjusting the neural network architecture, or using techniques like dropout to improve model performance."
      ]
    },
    {
      "cell_type": "markdown",
      "metadata": {
        "id": "SZaUtMNCUpbm"
      },
      "source": [
        "Predictions:"
      ]
    },
    {
      "cell_type": "markdown",
      "metadata": {
        "id": "UlF8IaMKUpbm"
      },
      "source": [
        "</br> The trained model to make predictions on new or unseen data.<br>\n",
        "Make predictions"
      ]
    },
    {
      "cell_type": "code",
      "execution_count": 42,
      "metadata": {
        "id": "gsGLCPE2Upbn"
      },
      "outputs": [],
      "source": [
        "#predictions = model.predict(X_new_data)"
      ]
    },
    {
      "cell_type": "markdown",
      "metadata": {
        "id": "eCkkV8J5Upbn"
      },
      "source": [
        "nterpretability (Optional):"
      ]
    },
    {
      "cell_type": "markdown",
      "metadata": {
        "id": "wcCtDI05Upbo"
      },
      "source": [
        "epending on the complexity of the model, consider techniques or tools for interpreting and explaining model predictions, such as SHAP (SHapley Additive exPlanations) values."
      ]
    }
  ],
  "metadata": {
    "colab": {
      "provenance": []
    },
    "kernelspec": {
      "display_name": "Python 3",
      "name": "python3"
    },
    "language_info": {
      "codemirror_mode": {
        "name": "ipython",
        "version": 3
      },
      "file_extension": ".py",
      "mimetype": "text/x-python",
      "name": "python",
      "nbconvert_exporter": "python",
      "pygments_lexer": "ipython3",
      "version": "3.6.4"
    }
  },
  "nbformat": 4,
  "nbformat_minor": 0
}